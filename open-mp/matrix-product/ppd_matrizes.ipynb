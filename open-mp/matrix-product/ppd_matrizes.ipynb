{
 "cells": [
  {
   "cell_type": "code",
   "execution_count": null,
   "metadata": {},
   "outputs": [],
   "source": []
  },
  {
   "cell_type": "markdown",
   "metadata": {
    "id": "T0GZ1XPBpK14"
   },
   "source": [
    "# **Paralelização da Multiplicação de Matrizes**\n",
    "\n",
    "**Grupo**\n",
    "- Pedro Malandrin Klesse -> 790746\n",
    "- Vitor Caligaris Figueira -> 790743"
   ]
  },
  {
   "cell_type": "markdown",
   "metadata": {
    "id": "klirvbvmnJA9"
   },
   "source": [
    "## **1° Paralelização**"
   ]
  },
  {
   "cell_type": "code",
   "execution_count": 1,
   "metadata": {
    "colab": {
     "base_uri": "https://localhost:8080/"
    },
    "id": "4TxQoKU_nF5O",
    "outputId": "ba218efe-1723-4974-dd76-962a1f1ca693"
   },
   "outputs": [
    {
     "name": "stdout",
     "output_type": "stream",
     "text": [
      "Writing t1.c\n"
     ]
    }
   ],
   "source": [
    "%%writefile t1.c\n",
    "\n",
    "#include <math.h>\n",
    "#include <stdlib.h>\n",
    "#include <string.h>\n",
    "#include <stdio.h>\n",
    "#include <unistd.h>\n",
    "#include <time.h>\n",
    "\n",
    "#define LIN_A 1024\n",
    "#define COL_A 1024\n",
    "#define COL_B 1024\n",
    "\n",
    "float *A, *B, *C;\n",
    "\n",
    "int\n",
    "main(int argc, char *argv[])\n",
    "{\n",
    "\tint lin_a,col_a,lin_b,col_b,lin_c,col_c;\n",
    "\tint i,j,k;\n",
    "\n",
    "\tif (argc > 1)\n",
    "\t\tlin_a = atoi(argv[1]);\n",
    "\telse\n",
    "\t\tlin_a = LIN_A;\n",
    "\n",
    "\tif (argc > 2)\n",
    "\t\tcol_a = atoi(argv[2]);\n",
    "\telse\n",
    "\t\tcol_a = COL_A;\n",
    "\n",
    "\tlin_b = col_a;\n",
    "\n",
    "\tif (argc > 3)\n",
    "\t\tcol_b = atoi(argv[3]);\n",
    "\telse\n",
    "\t\tcol_b = COL_B;\n",
    "\n",
    "\tlin_c = lin_a;\n",
    "\tcol_c = col_b;\n",
    "\n",
    "\t// Alocacao dinâmica das matrizes, com linhas em sequência\n",
    "\tA = (float *) malloc ( lin_a * col_a * sizeof(float) );\n",
    "\tB = (float *) malloc ( lin_b * col_b * sizeof(float) );\n",
    "\tC = (float *) malloc ( lin_c * col_c * sizeof(float) );\n",
    "\n",
    " \t// Atribucao de valores iniciais às matrizes\n",
    " \tsrand(time(NULL));\n",
    "\n",
    "\t// Opa! Vai gerar valores aleatórios em paralelo?\n",
    "\t// Talvez seja o caso de usar rand_r() ao invés de rand()...\n",
    "\n",
    "\tfor(i=0; i < lin_a * col_a; i++)\n",
    "\t\tA[i]=(float)rand() / (float)RAND_MAX;\n",
    "\n",
    "\tfor(i=0; i < lin_b * col_b; i++)\n",
    "\t\tB[i]=(float)rand() / (float)RAND_MAX;\n",
    "\n",
    "\t// calculo da multiplicacao\n",
    "\n",
    "\t// Qual/quais loop(s) paralelizar? Vale a pena paralelizar todos?\n",
    "\t// Qual é o efeito de fazer um parallel for em cada um dos fors abaixo?\n",
    "\t// É necessários sincronizar alguma operação, garantindo exclusão mútua?\n",
    "  #pragma omp parallel for private(j,k)\n",
    "\tfor(i=0; i < lin_c; i++)\n",
    "\n",
    "\t\tfor(j=0; j < col_c; j++) {\n",
    "\n",
    "\t\t\t// pode ser útil usar uma variável auxiliar para os cálculos\n",
    "\t\t\tC[i*col_c+j]=0;\n",
    "\n",
    "\t\t\tfor(k=0; k < col_a; k++)\n",
    "\t\t\t\tC[i*col_c+j] = C[i*col_c+j] + A[i*col_a+k] * B[k*col_b+j];\n",
    "\n",
    "       // ser usou variável auxiliar, atribui-se seu valor à C[i][j]\n",
    "\t\t}\n",
    "\n",
    "\treturn(0);\n",
    "}"
   ]
  },
  {
   "cell_type": "markdown",
   "metadata": {
    "id": "nXoLqfoonXU0"
   },
   "source": [
    "## **2° Paralelização**"
   ]
  },
  {
   "cell_type": "code",
   "execution_count": 2,
   "metadata": {
    "colab": {
     "base_uri": "https://localhost:8080/"
    },
    "id": "WSbq8hyenZhL",
    "outputId": "9cd30cf5-4ecf-440a-c14c-889aa813176f"
   },
   "outputs": [
    {
     "name": "stdout",
     "output_type": "stream",
     "text": [
      "Writing t2.c\n"
     ]
    }
   ],
   "source": [
    "%%writefile t2.c\n",
    "\n",
    "#include <math.h>\n",
    "#include <stdlib.h>\n",
    "#include <string.h>\n",
    "#include <stdio.h>\n",
    "#include <unistd.h>\n",
    "#include <time.h>\n",
    "\n",
    "#define LIN_A 1024\n",
    "#define COL_A 1024\n",
    "#define COL_B 1024\n",
    "\n",
    "float *A, *B, *C;\n",
    "\n",
    "int\n",
    "main(int argc, char *argv[])\n",
    "{\n",
    "\tint lin_a,col_a,lin_b,col_b,lin_c,col_c;\n",
    "\tint i,j,k;\n",
    "\n",
    "\tif (argc > 1)\n",
    "\t\tlin_a = atoi(argv[1]);\n",
    "\telse\n",
    "\t\tlin_a = LIN_A;\n",
    "\n",
    "\tif (argc > 2)\n",
    "\t\tcol_a = atoi(argv[2]);\n",
    "\telse\n",
    "\t\tcol_a = COL_A;\n",
    "\n",
    "\tlin_b = col_a;\n",
    "\n",
    "\tif (argc > 3)\n",
    "\t\tcol_b = atoi(argv[3]);\n",
    "\telse\n",
    "\t\tcol_b = COL_B;\n",
    "\n",
    "\tlin_c = lin_a;\n",
    "\tcol_c = col_b;\n",
    "\n",
    "\t// Alocacao dinâmica das matrizes, com linhas em sequência\n",
    "\tA = (float *) malloc ( lin_a * col_a * sizeof(float) );\n",
    "\tB = (float *) malloc ( lin_b * col_b * sizeof(float) );\n",
    "\tC = (float *) malloc ( lin_c * col_c * sizeof(float) );\n",
    "\n",
    " \t// Atribucao de valores iniciais às matrizes\n",
    " \tsrand(time(NULL));\n",
    "\n",
    "\t// Opa! Vai gerar valores aleatórios em paralelo?\n",
    "\t// Talvez seja o caso de usar rand_r() ao invés de rand()...\n",
    "\n",
    "\tfor(i=0; i < lin_a * col_a; i++)\n",
    "\t\tA[i]=(float)rand() / (float)RAND_MAX;\n",
    "\n",
    "\tfor(i=0; i < lin_b * col_b; i++)\n",
    "\t\tB[i]=(float)rand() / (float)RAND_MAX;\n",
    "\n",
    "\t// calculo da multiplicacao\n",
    "\n",
    "\t// Qual/quais loop(s) paralelizar? Vale a pena paralelizar todos?\n",
    "\t// Qual é o efeito de fazer um parallel for em cada um dos fors abaixo?\n",
    "\t// É necessários sincronizar alguma operação, garantindo exclusão mútua?\n",
    "\n",
    "\tfor(i=0; i < lin_c; i++)\n",
    "    #pragma omp parallel for private(k)\n",
    "\t\tfor(j=0; j < col_c; j++) {\n",
    "\n",
    "\t\t\t// pode ser útil usar uma variável auxiliar para os cálculos\n",
    "\t\t\tC[i*col_c+j]=0;\n",
    "\n",
    "\t\t\tfor(k=0; k < col_a; k++)\n",
    "\t\t\t\tC[i*col_c+j] = C[i*col_c+j] + A[i*col_a+k] * B[k*col_b+j];\n",
    "\n",
    "       // ser usou variável auxiliar, atribui-se seu valor à C[i][j]\n",
    "\t\t}\n",
    "\n",
    "\treturn(0);\n",
    "}"
   ]
  },
  {
   "cell_type": "markdown",
   "metadata": {
    "id": "RDu0pe5rnZxz"
   },
   "source": [
    "## **3° Paralelização**"
   ]
  },
  {
   "cell_type": "code",
   "execution_count": 3,
   "metadata": {
    "colab": {
     "base_uri": "https://localhost:8080/"
    },
    "id": "LZCt29V_ncJt",
    "outputId": "b4e51383-b85d-4821-e5e2-4bc95327976b"
   },
   "outputs": [
    {
     "name": "stdout",
     "output_type": "stream",
     "text": [
      "Writing t3.c\n"
     ]
    }
   ],
   "source": [
    "%%writefile t3.c\n",
    "\n",
    "#include <math.h>\n",
    "#include <stdlib.h>\n",
    "#include <string.h>\n",
    "#include <stdio.h>\n",
    "#include <unistd.h>\n",
    "#include <time.h>\n",
    "\n",
    "#define LIN_A 1024\n",
    "#define COL_A 1024\n",
    "#define COL_B 1024\n",
    "\n",
    "float *A, *B, *C;\n",
    "\n",
    "double aux;\n",
    "\n",
    "int\n",
    "main(int argc, char *argv[])\n",
    "{\n",
    "\tint lin_a,col_a,lin_b,col_b,lin_c,col_c;\n",
    "\tint i,j,k;\n",
    "\n",
    "\tif (argc > 1)\n",
    "\t\tlin_a = atoi(argv[1]);\n",
    "\telse\n",
    "\t\tlin_a = LIN_A;\n",
    "\n",
    "\tif (argc > 2)\n",
    "\t\tcol_a = atoi(argv[2]);\n",
    "\telse\n",
    "\t\tcol_a = COL_A;\n",
    "\n",
    "\tlin_b = col_a;\n",
    "\n",
    "\tif (argc > 3)\n",
    "\t\tcol_b = atoi(argv[3]);\n",
    "\telse\n",
    "\t\tcol_b = COL_B;\n",
    "\n",
    "\tlin_c = lin_a;\n",
    "\tcol_c = col_b;\n",
    "\n",
    "\t// Alocacao dinâmica das matrizes, com linhas em sequência\n",
    "\tA = (float *) malloc ( lin_a * col_a * sizeof(float) );\n",
    "\tB = (float *) malloc ( lin_b * col_b * sizeof(float) );\n",
    "\tC = (float *) malloc ( lin_c * col_c * sizeof(float) );\n",
    "\n",
    " \t// Atribucao de valores iniciais às matrizes\n",
    " \tsrand(time(NULL));\n",
    "\n",
    "\t// Opa! Vai gerar valores aleatórios em paralelo?\n",
    "\t// Talvez seja o caso de usar rand_r() ao invés de rand()...\n",
    "\n",
    "\tfor(i=0; i < lin_a * col_a; i++)\n",
    "\t\tA[i]=(float)rand() / (float)RAND_MAX;\n",
    "\n",
    "\tfor(i=0; i < lin_b * col_b; i++)\n",
    "\t\tB[i]=(float)rand() / (float)RAND_MAX;\n",
    "\n",
    "\t// calculo da multiplicacao\n",
    "\n",
    "\t// Qual/quais loop(s) paralelizar? Vale a pena paralelizar todos?\n",
    "\t// Qual é o efeito de fazer um parallel for em cada um dos fors abaixo?\n",
    "\t// É necessários sincronizar alguma operação, garantindo exclusão mútua?\n",
    "\n",
    "\tfor(i=0; i < lin_c; i++)\n",
    "\n",
    "\t\tfor(j=0; j < col_c; j++) {\n",
    "\n",
    "\t\t\t// pode ser útil usar uma variável auxiliar para os cálculos\n",
    "\t\t\tC[i*col_c+j]=0;\n",
    "\n",
    "     #pragma omp parallel for\n",
    "\t\t\tfor(k=0; k < col_a; k++)\n",
    "                // soma parcial\n",
    "\t\t\t\taux += A[i*col_a+k] * B[k*col_b+j];\n",
    "\n",
    "\t\t\tC[i*col_c+j] = aux;\n",
    "\n",
    "       // ser usou variável auxiliar, atribui-se seu valor à C[i][j]\n",
    "\t\t}\n",
    "\n",
    "\treturn(0);\n",
    "}"
   ]
  },
  {
   "cell_type": "markdown",
   "metadata": {
    "id": "TmB3YcYQtMa3"
   },
   "source": [
    "## **Plot dos Gráficos**"
   ]
  },
  {
   "cell_type": "code",
   "execution_count": 11,
   "metadata": {
    "colab": {
     "base_uri": "https://localhost:8080/"
    },
    "id": "0sy0lDyrxMs7",
    "outputId": "25f589bf-7e15-4924-fd4a-34f501627aa4"
   },
   "outputs": [
    {
     "name": "stdout",
     "output_type": "stream",
     "text": [
      "Overwriting plot.py\n"
     ]
    }
   ],
   "source": [
    "%%writefile plot.py\n",
    "\n",
    "import matplotlib.pyplot as plt\n",
    "\n",
    "# Função para retirar o tempo do output gerado pelo programa time\n",
    "def getTimes(tgtlines):\n",
    "    numvec=[]\n",
    "\n",
    "    for line in tgtlines:\n",
    "        target=line\n",
    "        mintime=''\n",
    "        sectime=''\n",
    "        counter=0\n",
    "        for char in target:\n",
    "            if char=='m':\n",
    "                break\n",
    "            else:\n",
    "                counter+=1\n",
    "                mintime+=char\n",
    "        for i in range(counter+1, len(target)):\n",
    "            if target[i]=='s':\n",
    "                break\n",
    "            else:\n",
    "                sectime+=target[i]\n",
    "        if ',' in sectime:\n",
    "            sectime = sectime.replace(',','.')\n",
    "        numsec=float(sectime)\n",
    "        nummin=int(mintime)\n",
    "        rtime=60*nummin+numsec\n",
    "        numvec.append(rtime)\n",
    "    return numvec\n",
    "\n",
    "\n",
    "def main():\n",
    "    files = {'t1.txt':[], 't2.txt':[], 't3.txt':[]}\n",
    "    threads = [1,2,4,8,16,32,64,128]\n",
    "\n",
    "    fig, axes = plt.subplots(ncols=1, nrows=3, sharex=True, figsize=(30,10))\n",
    "\n",
    "    for index, file in enumerate(files.keys()):\n",
    "\n",
    "      with open(file, 'r') as file1:\n",
    "        lines = file1.readlines()\n",
    "        file1.close()\n",
    "        reallines=[]\n",
    "        for i, line in enumerate(lines):\n",
    "              if 'real' in line:\n",
    "                  reallines.append(line.split()[1])\n",
    "              files[file] = getTimes(reallines)\n",
    "      # Subplots\n",
    "      axes[index].set_title(f\"Program {file.replace('.txt','')}\")\n",
    "      axes[index].plot(threads, files[file])\n",
    "      axes[index].axvline(8, color='r', linestyle='-.')\n",
    "      axes[index].set_xlabel('N Threads')\n",
    "      axes[index].set_ylabel('Time [s]')\n",
    "\n",
    "    plt.show()\n",
    "\n",
    "\n",
    "if __name__=='__main__':\n",
    "  main()"
   ]
  },
  {
   "cell_type": "markdown",
   "metadata": {
    "id": "Z-nNL4ysmhGn"
   },
   "source": [
    "## **Script de Execução dos Programas e Plot**"
   ]
  },
  {
   "cell_type": "code",
   "execution_count": 13,
   "metadata": {
    "colab": {
     "base_uri": "https://localhost:8080/"
    },
    "id": "qDoYPOirtL4n",
    "outputId": "d06c46e0-bcc5-48ed-b9ca-ca32bb3edc60"
   },
   "outputs": [
    {
     "name": "stdout",
     "output_type": "stream",
     "text": [
      "Overwriting exec.sh\n"
     ]
    }
   ],
   "source": [
    "%%writefile exec.sh\n",
    "#!/bin/bash\n",
    "\n",
    "rm -r t1.txt 2> /dev/null\n",
    "rm -r t2.txt 2> /dev/null\n",
    "rm -r t3.txt 2> /dev/null\n",
    "\n",
    "echo -e \"Informe N linhas de A:\\n\"\n",
    "read LIN_A\n",
    "echo -e \"Informe N Colunas de A == N Linhas de B:\\n\"\n",
    "read COL_A\n",
    "echo -e \"Informe N Colunas de B:\\n\"\n",
    "read COL_B\n",
    "\n",
    "\n",
    "\n",
    "gcc -Wall t1.c -o t1 -O3 -fopenmp\n",
    "gcc -Wall t2.c -o t2 -O3 -fopenmp\n",
    "gcc -Wall t3.c -o t3 -O3 -fopenmp\n",
    "\n",
    "for i in {1,2,4,8,16,32,64,128}; do\n",
    "        for j in {1..3}; do\n",
    "                echo \"$i thread(s) / Programa t$j\"\n",
    "                export OMP_NUM_THREADS=$i\n",
    "                { time ./t$j  $LIN_A $COL_A $COL_B; } 2>> t$j.txt\n",
    "                echo -e \"\\n\" 2>> $j.txt\n",
    "        done\n",
    "        echo\n",
    "done\n",
    "\n",
    "python plot.py"
   ]
  },
  {
   "cell_type": "markdown",
   "metadata": {
    "id": "Lxz2YojicUK-"
   },
   "source": [
    "### **Arquivo para servir de entrada ao programa, definindo:**\n",
    "\n",
    "- Matriz A: 1024x1024\n",
    "- Matriz B: 1024x1024"
   ]
  },
  {
   "cell_type": "code",
   "execution_count": 7,
   "metadata": {
    "id": "uNE3QfknFyzs"
   },
   "outputs": [],
   "source": [
    "!echo \"1024 1024 1024\" > 1024"
   ]
  },
  {
   "cell_type": "code",
   "execution_count": null,
   "metadata": {
    "id": "LVKImnxI2s_V"
   },
   "outputs": [],
   "source": [
    "!chmod +x exec.sh && ./exec.sh < 1024"
   ]
  }
 ],
 "metadata": {
  "colab": {
   "provenance": []
  },
  "kernelspec": {
   "display_name": "Python 3 (ipykernel)",
   "language": "python",
   "name": "python3"
  },
  "language_info": {
   "codemirror_mode": {
    "name": "ipython",
    "version": 3
   },
   "file_extension": ".py",
   "mimetype": "text/x-python",
   "name": "python",
   "nbconvert_exporter": "python",
   "pygments_lexer": "ipython3",
   "version": "3.10.12"
  }
 },
 "nbformat": 4,
 "nbformat_minor": 4
}
